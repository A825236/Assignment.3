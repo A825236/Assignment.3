{
 "cells": [
  {
   "cell_type": "markdown",
   "id": "3015924d-05c2-4ed5-aafa-48d7eb00c0dd",
   "metadata": {},
   "source": [
    "1.Write a Python to Check if a Number is Positive,Negetive or Zero?"
   ]
  },
  {
   "cell_type": "code",
   "execution_count": 4,
   "id": "35e1af4e-d3da-43d6-8e19-c06089bf279c",
   "metadata": {},
   "outputs": [
    {
     "name": "stdin",
     "output_type": "stream",
     "text": [
      "Enter your number -23\n"
     ]
    },
    {
     "name": "stdout",
     "output_type": "stream",
     "text": [
      "negative\n"
     ]
    }
   ],
   "source": [
    "def number_checker(number):\n",
    "    if number > 0:\n",
    "        return \"positive\"\n",
    "\n",
    "    if number < 0:\n",
    "        return \"negative\"\n",
    "\n",
    "    if number == 0:\n",
    "        return \"number is zero\"\n",
    "\n",
    "try:\n",
    "    number = int(input(\"Enter your number\"))\n",
    "    print(number_checker(number))\n",
    "\n",
    "except Exception as e:\n",
    "    print(\"only numbers are allowed \",e)"
   ]
  },
  {
   "cell_type": "markdown",
   "id": "1b6a049e-1d9f-4520-8bcb-a545a3e4cd23",
   "metadata": {},
   "source": [
    "2.\tWrite a Python Program to Check if a Number is Odd or Even?"
   ]
  },
  {
   "cell_type": "code",
   "execution_count": 23,
   "id": "8b1bb979-1434-4490-963b-94a26fcf400c",
   "metadata": {},
   "outputs": [
    {
     "name": "stdin",
     "output_type": "stream",
     "text": [
      "Enter number to check even or odd :  3434\n"
     ]
    },
    {
     "name": "stdout",
     "output_type": "stream",
     "text": [
      "Even\n"
     ]
    }
   ],
   "source": [
    "def even_or_odd(number):\n",
    "    if number%2==0:\n",
    "        return \"Even\"\n",
    "    if number%2!= 0:\n",
    "        return \"odd\"\n",
    "try:\n",
    "    number = int(input(\"Enter number to check even or odd : \"))\n",
    "    print(even_or_odd(number))\n",
    "except Exception as e:\n",
    "    print(e)"
   ]
  },
  {
   "cell_type": "markdown",
   "id": "8c4c2cdd-bb59-4e97-99d2-090285708ef0",
   "metadata": {},
   "source": [
    "3.\tWrite a Python Program to Check Leap Year?"
   ]
  },
  {
   "cell_type": "code",
   "execution_count": 29,
   "id": "81aacf54-c78a-45de-a4d9-618fe0856554",
   "metadata": {},
   "outputs": [
    {
     "name": "stdin",
     "output_type": "stream",
     "text": [
      "Enter number to check check leap year :  10002\n"
     ]
    },
    {
     "name": "stdout",
     "output_type": "stream",
     "text": [
      "not leap year\n"
     ]
    }
   ],
   "source": [
    "def check_leap_year(year):\n",
    "    if year%4== 0 and year%100!=0:\n",
    "        return \"Leap year\"\n",
    "    else:\n",
    "        return f\"not leap year\"\n",
    "\n",
    "try:\n",
    "    year = int(input(\"Enter number to check  leap year : \"))\n",
    "    print(check_leap_year(year))\n",
    "except Exception as e:\n",
    "    print(e)        "
   ]
  },
  {
   "cell_type": "markdown",
   "id": "03d7a6df-617f-49b7-b5ee-3d89d380ee1f",
   "metadata": {},
   "source": [
    "4.\tWrite a Python Program to Check Prime Number?"
   ]
  },
  {
   "cell_type": "code",
   "execution_count": null,
   "id": "f0459a80-f996-4f3b-a780-fdd26e468747",
   "metadata": {},
   "outputs": [],
   "source": []
  },
  {
   "cell_type": "code",
   "execution_count": null,
   "id": "86f03167-e43c-4137-9f36-01887a0d4e87",
   "metadata": {},
   "outputs": [],
   "source": []
  },
  {
   "cell_type": "code",
   "execution_count": 48,
   "id": "f32665bf-6521-4f32-94e4-ab038a27ef27",
   "metadata": {},
   "outputs": [
    {
     "name": "stdout",
     "output_type": "stream",
     "text": [
      "10.0\n",
      "3\n"
     ]
    }
   ],
   "source": [
    "import math\n",
    "number = 100\n",
    "number = math.sqrt(number)\n",
    "print(number)\n",
    "number = int(math.sqrt(number))\n",
    "print(number)"
   ]
  },
  {
   "cell_type": "code",
   "execution_count": 82,
   "id": "021737b4-e272-4bfe-8057-fdc808ea5099",
   "metadata": {},
   "outputs": [
    {
     "name": "stdout",
     "output_type": "stream",
     "text": [
      "not a prime member\n"
     ]
    }
   ],
   "source": [
    "number = 49\n",
    "for i in range (2,number):\n",
    "\n",
    "    \n",
    "    if number %i == 0:\n",
    "        print(\"not a prime member\")\n",
    "        break\n",
    "else:\n",
    "    print(\"prime member\")"
   ]
  },
  {
   "cell_type": "code",
   "execution_count": 70,
   "id": "ea8da7f4-b8df-4d9a-9c90-8059a0567f50",
   "metadata": {},
   "outputs": [
    {
     "name": "stdin",
     "output_type": "stream",
     "text": [
      "Enter a number:  7\n"
     ]
    },
    {
     "name": "stdout",
     "output_type": "stream",
     "text": [
      "Prime number\n"
     ]
    }
   ],
   "source": [
    "import math\n",
    "\n",
    "def check_prime_number():\n",
    "    try:\n",
    "        num = int(input(\"Enter a number: \"))\n",
    "        if num <= 1:\n",
    "            return \"Not a prime number\"\n",
    "        \n",
    "        # Check for factors from 2 to the square root of num\n",
    "        for i in range(2, int(math.sqrt(num)) + 1):\n",
    "            if num % i == 0:\n",
    "                return \"Not a prime number\"\n",
    "        \n",
    "        return \"Prime number\"\n",
    "    except ValueError:\n",
    "        return \"Only numbers are allowed\"\n",
    "\n",
    "# Call the function\n",
    "result = check_prime_number()\n",
    "print(result)"
   ]
  },
  {
   "cell_type": "markdown",
   "id": "12e34f48-6e96-4854-bea6-5875ec0aa013",
   "metadata": {},
   "source": [
    "5.\tWrite a Python Program to Print all Prime Numbers in an Interval of 1-10000?"
   ]
  },
  {
   "cell_type": "code",
   "execution_count": 1,
   "id": "714ff130-0b27-4bd7-b1f7-a9b3e7586096",
   "metadata": {},
   "outputs": [
    {
     "name": "stdout",
     "output_type": "stream",
     "text": [
      "2\n",
      "3\n",
      "5\n",
      "7\n",
      "11\n",
      "13\n",
      "17\n",
      "19\n",
      "23\n",
      "29\n",
      "31\n",
      "37\n",
      "41\n",
      "43\n",
      "47\n"
     ]
    }
   ],
   "source": [
    "def is_prime(number):\n",
    "    if number <= 1:\n",
    "        return False\n",
    "    for i in range(2, int(number ** 0.5) + 1): \n",
    "        if number % i == 0:\n",
    "            return False\n",
    "    return True\n",
    "\n",
    "for number in range(1, 50):\n",
    "    if is_prime(number):\n",
    "        print(number)"
   ]
  },
  {
   "cell_type": "code",
   "execution_count": 3,
   "id": "ce33cf9b-b934-4a09-be91-ea36d42df30e",
   "metadata": {},
   "outputs": [
    {
     "name": "stdin",
     "output_type": "stream",
     "text": [
      "Enter first range:  2\n",
      "Enter last range:  n\n"
     ]
    },
    {
     "name": "stdout",
     "output_type": "stream",
     "text": [
      "only number are allowed\n"
     ]
    }
   ],
   "source": [
    "def list_maker(first_range,last_range):\n",
    "        \n",
    "    prime_list = []\n",
    "    for j in range(first_range,last_range+1):\n",
    "      \n",
    "    \n",
    "        \n",
    "        for i in range(2,int(j**.5)+1):\n",
    "            \n",
    "            if j%i==0:\n",
    "                \n",
    "                break\n",
    "    \n",
    "        else:\n",
    "            prime_list.append(j)\n",
    "    print(prime_list)\n",
    "    print(sum(prime_list))\n",
    "try:\n",
    "    \n",
    "    first_range = int(input(\"Enter first range: \"))\n",
    "    last_range = int(input(\"Enter last range: \"))\n",
    "    list_maker(first_range,last_range)\n",
    "except:\n",
    "    print(\"only number are allowed\")\n",
    "    \n",
    "\n",
    "    \n"
   ]
  },
  {
   "cell_type": "code",
   "execution_count": null,
   "id": "c057e6ce-9ecf-4207-824b-e9798c08b009",
   "metadata": {},
   "outputs": [],
   "source": []
  },
  {
   "cell_type": "code",
   "execution_count": null,
   "id": "15f6ab54-58a3-46f8-9521-44d71d297b05",
   "metadata": {},
   "outputs": [],
   "source": []
  }
 ],
 "metadata": {
  "kernelspec": {
   "display_name": "Python 3 (ipykernel)",
   "language": "python",
   "name": "python3"
  },
  "language_info": {
   "codemirror_mode": {
    "name": "ipython",
    "version": 3
   },
   "file_extension": ".py",
   "mimetype": "text/x-python",
   "name": "python",
   "nbconvert_exporter": "python",
   "pygments_lexer": "ipython3",
   "version": "3.12.7"
  }
 },
 "nbformat": 4,
 "nbformat_minor": 5
}
